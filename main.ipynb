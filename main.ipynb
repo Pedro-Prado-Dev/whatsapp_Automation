{
 "cells": [
  {
   "cell_type": "code",
   "execution_count": 1,
   "metadata": {},
   "outputs": [],
   "source": [
    "from selenium import webdriver\n",
    "from selenium.webdriver.chrome.service import Service\n",
    "from webdriver_manager.chrome import ChromeDriverManager\n",
    "from selenium.webdriver.common.keys import Keys\n",
    "from selenium.webdriver.common.action_chains import ActionChains\n",
    "import pyperclip\n",
    "import time"
   ]
  },
  {
   "cell_type": "code",
   "execution_count": 2,
   "metadata": {},
   "outputs": [],
   "source": [
    "service = Service(ChromeDriverManager().install())\n",
    "nav = webdriver.Chrome(service=service)\n",
    "nav.get(\"https://web.whatsapp.com\")"
   ]
  },
  {
   "cell_type": "code",
   "execution_count": 38,
   "metadata": {},
   "outputs": [],
   "source": [
    "message = \"\"\"\n",
    "Boa Tarde, tudo bem ?\n",
    "\"\"\"\n",
    "\n",
    "contacts_list = [\"Foco\", \"Lucas Smigol\", \"Mel\",\"Eu (você)\"]\n",
    "\n",
    "nav.find_element(\"xpath\", '//*[@id=\"side\"]/div[1]/div/div/button/div[2]/span').click()\n",
    "nav.find_element(\"xpath\", '//*[@id=\"side\"]/div[1]/div/div/div[2]/div/div[1]/p').send_keys(\"EU\")\n",
    "nav.find_element(\"xpath\", '//*[@id=\"side\"]/div[1]/div/div/div[2]/div/div[1]/p').send_keys(Keys.ENTER)\n",
    "time.sleep(1)\n",
    "\n",
    "pyperclip.copy(menssage)\n",
    "nav.find_element(\"xpath\", '//*[@id=\"main\"]/footer/div[1]/div/span[2]/div/div[2]/div[1]/div/div[1]/p').send_keys(Keys.CONTROL + \"v\")\n",
    "nav.find_element(\"xpath\", '//*[@id=\"main\"]/footer/div[1]/div/span[2]/div/div[2]/div[1]/div/div[1]/p').send_keys(Keys.ENTER)\n",
    "time.sleep(2)"
   ]
  },
  {
   "cell_type": "code",
   "execution_count": 39,
   "metadata": {},
   "outputs": [],
   "source": [
    "list_element = nav.find_elements('class name','_2AOIt') \n",
    "\n",
    "for item in list_element:\n",
    "    message = message.replace(\"\\n\",\"\")\n",
    "    text = item.text.replace(\"\\n\",\"\")\n",
    "    if message in text :\n",
    "        element = item\n",
    "        break\n",
    "    \n",
    "    \n",
    "ActionChains(nav).move_to_element(element).perform()\n",
    "element.find_element('class name','_3u9t-').click()\n",
    "time.sleep(0.5)\n",
    "nav.find_element(\"xpath\", '//*[@id=\"app\"]/div/span[4]/div/ul/div/li[4]/div').click()\n",
    "nav.find_element(\"xpath\", '//*[@id=\"main\"]/span[2]/div/button[4]/span').click()\n",
    "time.sleep(1)\n",
    "\n",
    "for contact in contacts_list:\n",
    "    nav.find_element(\"xpath\", '//*[@id=\"app\"]/div/span[2]/div/div/div/div/div/div/div/div[1]/div/div/div[2]/div/div[1]/p').send_keys(contact)\n",
    "    time.sleep(0.3)\n",
    "    nav.find_element(\"xpath\", '//*[@id=\"app\"]/div/span[2]/div/div/div/div/div/div/div/div[1]/div/div/div[2]/div/div[1]/p').send_keys(Keys.ENTER)\n",
    "    time.sleep(0.3)\n",
    "    nav.find_element(\"xpath\", '//*[@id=\"app\"]/div/span[2]/div/div/div/div/div/div/div/div[1]/div/div/div[2]/div/div[1]/p').send_keys(Keys.BACKSPACE)\n",
    "\n"
   ]
  }
 ],
 "metadata": {
  "kernelspec": {
   "display_name": "venv",
   "language": "python",
   "name": "python3"
  },
  "language_info": {
   "codemirror_mode": {
    "name": "ipython",
    "version": 3
   },
   "file_extension": ".py",
   "mimetype": "text/x-python",
   "name": "python",
   "nbconvert_exporter": "python",
   "pygments_lexer": "ipython3",
   "version": "3.11.4"
  },
  "orig_nbformat": 4
 },
 "nbformat": 4,
 "nbformat_minor": 2
}
